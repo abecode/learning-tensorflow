{
  "nbformat": 4,
  "nbformat_minor": 0,
  "metadata": {
    "colab": {
      "name": "tf-regression.ipynb",
      "provenance": [],
      "include_colab_link": true
    },
    "kernelspec": {
      "name": "python3",
      "display_name": "Python 3"
    }
  },
  "cells": [
    {
      "cell_type": "markdown",
      "metadata": {
        "id": "view-in-github",
        "colab_type": "text"
      },
      "source": [
        "<a href=\"https://colab.research.google.com/github/abecode/learning-tensorflow/blob/master/tf_regression.ipynb\" target=\"_parent\"><img src=\"https://colab.research.google.com/assets/colab-badge.svg\" alt=\"Open In Colab\"/></a>"
      ]
    },
    {
      "cell_type": "code",
      "metadata": {
        "id": "6YfxSLLF1cm0",
        "colab_type": "code",
        "colab": {}
      },
      "source": [
        "import tensorflow as tf\n"
      ],
      "execution_count": 0,
      "outputs": []
    },
    {
      "cell_type": "code",
      "metadata": {
        "id": "cbYaKd9u6Noy",
        "colab_type": "code",
        "colab": {}
      },
      "source": [
        "import numpy as np\n"
      ],
      "execution_count": 0,
      "outputs": []
    },
    {
      "cell_type": "code",
      "metadata": {
        "id": "Ht52yEBmR-Xj",
        "colab_type": "code",
        "colab": {}
      },
      "source": [
        "import matplotlib.pyplot as plt"
      ],
      "execution_count": 0,
      "outputs": []
    },
    {
      "cell_type": "code",
      "metadata": {
        "id": "hnZUvdEi6sAG",
        "colab_type": "code",
        "colab": {
          "base_uri": "https://localhost:8080/",
          "height": 34
        },
        "outputId": "2c8ca3f3-b12e-4ddf-dd25-800aa0dcd846"
      },
      "source": [
        "x = np.random.randn(100) * 5 + 3 # *5 changes the sd, +3 changes the mean\n",
        "err = np.random.randn(100) * .2 # *.2 changes tthe sd\n",
        "y = 43*x + 10 + err # calculate observed response\n",
        "y.shape = (100,1) # coerse to column vector\n",
        "B= np.array([10, 43]) # represent population parameters as column vector\n",
        "B.shape = (2,1) # coerse to column vector\n",
        "X= np.column_stack((np.ones(100),x))\n",
        "(X@B).shape # make sure the shapes are right\n"
      ],
      "execution_count": 8,
      "outputs": [
        {
          "output_type": "execute_result",
          "data": {
            "text/plain": [
              "(100, 1)"
            ]
          },
          "metadata": {
            "tags": []
          },
          "execution_count": 8
        }
      ]
    },
    {
      "cell_type": "code",
      "metadata": {
        "id": "eQnqfg7l7H3I",
        "colab_type": "code",
        "colab": {
          "base_uri": "https://localhost:8080/",
          "height": 151
        },
        "outputId": "26b91e57-5d3a-4844-aaa3-fb9095f53baf"
      },
      "source": [
        "tf.reset_default_graph() \n",
        "#x_ = tf.placeholder(tf.float32, shape=(None,), name=\"x\")\n",
        "#y_ = tf.placeholder(tf.float32, shape=(None,), name=\"y\")\n",
        "x_ = tf.placeholder(tf.float32, shape=(100,1), name=\"x\")\n",
        "y_ = tf.placeholder(tf.float32, shape=(100,1), name=\"y\")\n",
        "X_ = tf.placeholder(tf.float32, shape=X.shape, name=\"X\")\n",
        "# err_ = tf.placeholder(\"err\", initializer=err)\n",
        "#b = tf.get_variable(\"b\", [1, 2])\n",
        "#b_ = tf.get_variable(\"b\", shape=B.shape, initializer=tf.random_normal_initializer)\n",
        "#b_ = tf.get_variable(\"b\", shape=B.shape, initializer=tf.contrib.layers.xavier_initializer(uniform=True))\n",
        "b_ = tf.get_variable(\"b\", shape=B.shape, initializer=tf.contrib.layers.xavier_initializer())\n",
        "yhat_ = tf.matmul(X_, b_)\n",
        "loss_ = tf.reduce_mean(tf.square(yhat_ - y_))\n",
        "optimizer = tf.train.GradientDescentOptimizer(.025)\n",
        "train_op = optimizer.minimize(loss_)"
      ],
      "execution_count": 9,
      "outputs": [
        {
          "output_type": "stream",
          "text": [
            "WARNING:tensorflow:\n",
            "The TensorFlow contrib module will not be included in TensorFlow 2.0.\n",
            "For more information, please see:\n",
            "  * https://github.com/tensorflow/community/blob/master/rfcs/20180907-contrib-sunset.md\n",
            "  * https://github.com/tensorflow/addons\n",
            "  * https://github.com/tensorflow/io (for I/O related ops)\n",
            "If you depend on functionality not listed there, please file an issue.\n",
            "\n"
          ],
          "name": "stdout"
        }
      ]
    },
    {
      "cell_type": "code",
      "metadata": {
        "id": "DZIdztgJdFgv",
        "colab_type": "code",
        "colab": {
          "base_uri": "https://localhost:8080/",
          "height": 34
        },
        "outputId": "887d27ab-10ab-476f-e612-af431194d5b5"
      },
      "source": [
        "y_.shape"
      ],
      "execution_count": 10,
      "outputs": [
        {
          "output_type": "execute_result",
          "data": {
            "text/plain": [
              "TensorShape([Dimension(100), Dimension(1)])"
            ]
          },
          "metadata": {
            "tags": []
          },
          "execution_count": 10
        }
      ]
    },
    {
      "cell_type": "code",
      "metadata": {
        "id": "hNHo0Z07ZahV",
        "colab_type": "code",
        "colab": {
          "base_uri": "https://localhost:8080/",
          "height": 1000
        },
        "outputId": "34d93e3c-3ee9-4c07-b3b2-d5e51f285740"
      },
      "source": [
        "with tf.Session() as session:\n",
        "    session.run(tf.global_variables_initializer())\n",
        "    feed_dict = {X_: X , y_: y}\n",
        "\t\t\n",
        "    for i in range(100):\n",
        "      session.run(train_op, feed_dict)\n",
        "      print(i, \"loss:\", loss_.eval(feed_dict))\n",
        "    \n",
        "    v = session.run(b_)\n",
        "\n",
        "v"
      ],
      "execution_count": 11,
      "outputs": [
        {
          "output_type": "stream",
          "text": [
            "0 loss: 34839.85\n",
            "1 loss: 18618.508\n",
            "2 loss: 9953.813\n",
            "3 loss: 5325.2393\n",
            "4 loss: 2852.4412\n",
            "5 loss: 1531.0967\n",
            "6 loss: 824.7979\n",
            "7 loss: 447.0393\n",
            "8 loss: 244.79514\n",
            "9 loss: 136.32993\n",
            "10 loss: 77.985886\n",
            "11 loss: 46.442272\n",
            "12 loss: 29.24115\n",
            "13 loss: 19.72675\n",
            "14 loss: 14.342136\n",
            "15 loss: 11.1855955\n",
            "16 loss: 9.239937\n",
            "17 loss: 7.960187\n",
            "18 loss: 7.053975\n",
            "19 loss: 6.363761\n",
            "20 loss: 5.8041735\n",
            "21 loss: 5.3284926\n",
            "22 loss: 4.9107265\n",
            "23 loss: 4.536018\n",
            "24 loss: 4.1955276\n",
            "25 loss: 3.8837051\n",
            "26 loss: 3.5968237\n",
            "27 loss: 3.3321755\n",
            "28 loss: 3.087652\n",
            "29 loss: 2.8615203\n",
            "30 loss: 2.652284\n",
            "31 loss: 2.4586265\n",
            "32 loss: 2.2793505\n",
            "33 loss: 2.1133783\n",
            "34 loss: 1.959709\n",
            "35 loss: 1.8174242\n",
            "36 loss: 1.6856838\n",
            "37 loss: 1.5636983\n",
            "38 loss: 1.4507481\n",
            "39 loss: 1.3461661\n",
            "40 loss: 1.2493274\n",
            "41 loss: 1.159661\n",
            "42 loss: 1.0766366\n",
            "43 loss: 0.99976045\n",
            "44 loss: 0.9285764\n",
            "45 loss: 0.86266404\n",
            "46 loss: 0.80163443\n",
            "47 loss: 0.7451245\n",
            "48 loss: 0.69279754\n",
            "49 loss: 0.6443496\n",
            "50 loss: 0.5994862\n",
            "51 loss: 0.55794626\n",
            "52 loss: 0.51948184\n",
            "53 loss: 0.483868\n",
            "54 loss: 0.45089003\n",
            "55 loss: 0.4203551\n",
            "56 loss: 0.39208195\n",
            "57 loss: 0.36590165\n",
            "58 loss: 0.34166107\n",
            "59 loss: 0.31921628\n",
            "60 loss: 0.29843238\n",
            "61 loss: 0.27918753\n",
            "62 loss: 0.2613708\n",
            "63 loss: 0.24487051\n",
            "64 loss: 0.22959349\n",
            "65 loss: 0.21544756\n",
            "66 loss: 0.20234783\n",
            "67 loss: 0.19022053\n",
            "68 loss: 0.17898984\n",
            "69 loss: 0.16859193\n",
            "70 loss: 0.15896374\n",
            "71 loss: 0.1500483\n",
            "72 loss: 0.14179355\n",
            "73 loss: 0.1341503\n",
            "74 loss: 0.12707263\n",
            "75 loss: 0.120519154\n",
            "76 loss: 0.11445104\n",
            "77 loss: 0.108832665\n",
            "78 loss: 0.10363033\n",
            "79 loss: 0.09881261\n",
            "80 loss: 0.09435187\n",
            "81 loss: 0.09022221\n",
            "82 loss: 0.08639817\n",
            "83 loss: 0.08285656\n",
            "84 loss: 0.07957792\n",
            "85 loss: 0.07654212\n",
            "86 loss: 0.07373064\n",
            "87 loss: 0.07112813\n",
            "88 loss: 0.0687173\n",
            "89 loss: 0.06648581\n",
            "90 loss: 0.06441938\n",
            "91 loss: 0.06250598\n",
            "92 loss: 0.06073461\n",
            "93 loss: 0.05909405\n",
            "94 loss: 0.05757409\n",
            "95 loss: 0.05616811\n",
            "96 loss: 0.054866064\n",
            "97 loss: 0.05365982\n",
            "98 loss: 0.052543465\n",
            "99 loss: 0.05150936\n"
          ],
          "name": "stdout"
        },
        {
          "output_type": "execute_result",
          "data": {
            "text/plain": [
              "array([[ 9.860554],\n",
              "       [43.012054]], dtype=float32)"
            ]
          },
          "metadata": {
            "tags": []
          },
          "execution_count": 11
        }
      ]
    },
    {
      "cell_type": "code",
      "metadata": {
        "id": "E5188sTGieXU",
        "colab_type": "code",
        "colab": {}
      },
      "source": [
        ""
      ],
      "execution_count": 0,
      "outputs": []
    }
  ]
}