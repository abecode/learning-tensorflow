{
  "nbformat": 4,
  "nbformat_minor": 0,
  "metadata": {
    "colab": {
      "name": "tf-regression.ipynb",
      "provenance": [],
      "include_colab_link": true
    },
    "kernelspec": {
      "name": "python3",
      "display_name": "Python 3"
    }
  },
  "cells": [
    {
      "cell_type": "markdown",
      "metadata": {
        "id": "view-in-github",
        "colab_type": "text"
      },
      "source": [
        "<a href=\"https://colab.research.google.com/github/abecode/learning-tensorflow/blob/master/tf_regression.ipynb\" target=\"_parent\"><img src=\"https://colab.research.google.com/assets/colab-badge.svg\" alt=\"Open In Colab\"/></a>"
      ]
    },
    {
      "cell_type": "code",
      "metadata": {
        "id": "OqAhTdb8cgvj",
        "colab_type": "code",
        "outputId": "dcf23b51-cc4f-4f12-e8af-6d3361f9363e",
        "colab": {
          "base_uri": "https://localhost:8080/",
          "height": 54
        }
      },
      "source": [
        "\"\"\"Roughly based on https://towardsdatascience.com/a-line-by-line-laymans-guide-to-linear-regression-using-tensorflow-3c0392aa9e1f\n",
        "\n",
        "But using a single column vector matrix for the parameters instead of two variables.  \n",
        "\n",
        "Also, using a matrix as input with a dummy ones column\n",
        "\"\"\""
      ],
      "execution_count": 0,
      "outputs": [
        {
          "output_type": "execute_result",
          "data": {
            "text/plain": [
              "'Roughly based on https://towardsdatascience.com/a-line-by-line-laymans-guide-to-linear-regression-using-tensorflow-3c0392aa9e1f\\n\\nBut using a single column vector matrix for the parameters instead of two variables.  \\n\\nAlso, using a matrix as input with a dummy ones column\\n'"
            ]
          },
          "metadata": {
            "tags": []
          },
          "execution_count": 39
        }
      ]
    },
    {
      "cell_type": "code",
      "metadata": {
        "id": "6YfxSLLF1cm0",
        "colab_type": "code",
        "colab": {}
      },
      "source": [
        "import matplotlib.pyplot as plt\n",
        "import numpy as np\n",
        "from scipy import stats\n",
        "import tensorflow as tf\n",
        "\n"
      ],
      "execution_count": 0,
      "outputs": []
    },
    {
      "cell_type": "code",
      "metadata": {
        "id": "cbYaKd9u6Noy",
        "colab_type": "code",
        "colab": {}
      },
      "source": [
        "\n"
      ],
      "execution_count": 0,
      "outputs": []
    },
    {
      "cell_type": "code",
      "metadata": {
        "id": "Ht52yEBmR-Xj",
        "colab_type": "code",
        "colab": {}
      },
      "source": [
        "import matplotlib.pyplot as plt"
      ],
      "execution_count": 0,
      "outputs": []
    },
    {
      "cell_type": "code",
      "metadata": {
        "id": "hnZUvdEi6sAG",
        "colab_type": "code",
        "outputId": "8dab5271-f2a0-4384-890d-e617c7da6317",
        "colab": {
          "base_uri": "https://localhost:8080/",
          "height": 34
        }
      },
      "source": [
        "x = np.random.randn(100) * 5 + 3 # *5 changes the sd, +3 changes the mean\n",
        "err = np.random.randn(100) * .2 # *.2 changes tthe sd\n",
        "y = 43*x + 10 + err # calculate observed response\n",
        "y.shape = (100,1) # coerse to column vector\n",
        "B= np.array([10, 43]) # represent population parameters as column vector\n",
        "B.shape = (2,1) # coerse to column vector\n",
        "X= np.column_stack((np.ones(100),x))\n",
        "(X@B).shape # make sure the shapes are right\n"
      ],
      "execution_count": 0,
      "outputs": [
        {
          "output_type": "execute_result",
          "data": {
            "text/plain": [
              "(100, 1)"
            ]
          },
          "metadata": {
            "tags": []
          },
          "execution_count": 42
        }
      ]
    },
    {
      "cell_type": "code",
      "metadata": {
        "id": "eQnqfg7l7H3I",
        "colab_type": "code",
        "colab": {}
      },
      "source": [
        "tf.reset_default_graph() \n",
        "#x_ = tf.placeholder(tf.float32, shape=(None,), name=\"x\")\n",
        "#y_ = tf.placeholder(tf.float32, shape=(None,), name=\"y\")\n",
        "x_ = tf.placeholder(tf.float32, shape=(100,1), name=\"x\")\n",
        "y_ = tf.placeholder(tf.float32, shape=(100,1), name=\"y\")\n",
        "X_ = tf.placeholder(tf.float32, shape=X.shape, name=\"X\")\n",
        "# err_ = tf.placeholder(\"err\", initializer=err)\n",
        "#b = tf.get_variable(\"b\", [1, 2])\n",
        "b_ = tf.get_variable(\"b\", shape=B.shape, initializer=tf.random_normal_initializer)\n",
        "#b_ = tf.get_variable(\"b\", shape=B.shape, initializer=tf.contrib.layers.xavier_initializer(uniform=True))\n",
        "#b_ = tf.get_variable(\"b\", shape=B.shape, initializer=tf.contrib.layers.xavier_initializer())\n",
        "yhat_ = tf.matmul(X_, b_)\n",
        "loss_ = tf.reduce_mean(tf.square(yhat_ - y_))\n",
        "optimizer = tf.train.GradientDescentOptimizer(.025)\n",
        "train_op = optimizer.minimize(loss_)"
      ],
      "execution_count": 0,
      "outputs": []
    },
    {
      "cell_type": "code",
      "metadata": {
        "id": "DZIdztgJdFgv",
        "colab_type": "code",
        "outputId": "a705d45f-dc63-43d9-b0d4-bbe7c80ee04f",
        "colab": {
          "base_uri": "https://localhost:8080/",
          "height": 34
        }
      },
      "source": [
        "y_.shape"
      ],
      "execution_count": 0,
      "outputs": [
        {
          "output_type": "execute_result",
          "data": {
            "text/plain": [
              "TensorShape([Dimension(100), Dimension(1)])"
            ]
          },
          "metadata": {
            "tags": []
          },
          "execution_count": 44
        }
      ]
    },
    {
      "cell_type": "code",
      "metadata": {
        "id": "hNHo0Z07ZahV",
        "colab_type": "code",
        "outputId": "dacfd128-e45f-4661-e0e3-1cfad3d86247",
        "colab": {
          "base_uri": "https://localhost:8080/",
          "height": 554
        }
      },
      "source": [
        "with tf.Session() as session:\n",
        "    session.run(tf.global_variables_initializer())\n",
        "    feed_dict = {X_: X , y_: y}\n",
        "\t\t\n",
        "    for i in range(300):\n",
        "      session.run(train_op, feed_dict)\n",
        "      if i % 10 == 0:\n",
        "        print(i, \"loss:\", loss_.eval(feed_dict))\n",
        "    \n",
        "    v = session.run(b_)\n",
        "\n",
        "v"
      ],
      "execution_count": 0,
      "outputs": [
        {
          "output_type": "stream",
          "text": [
            "0 loss: 41663.066\n",
            "10 loss: 358.47797\n",
            "20 loss: 6.233896\n",
            "30 loss: 1.5550021\n",
            "40 loss: 0.7292855\n",
            "50 loss: 0.36008048\n",
            "60 loss: 0.19007322\n",
            "70 loss: 0.111746654\n",
            "80 loss: 0.07566022\n",
            "90 loss: 0.059033707\n",
            "100 loss: 0.05137387\n",
            "110 loss: 0.04784454\n",
            "120 loss: 0.046218686\n",
            "130 loss: 0.04546926\n",
            "140 loss: 0.045124553\n",
            "150 loss: 0.04496525\n",
            "160 loss: 0.04489211\n",
            "170 loss: 0.044858318\n",
            "180 loss: 0.04484284\n",
            "190 loss: 0.04483552\n",
            "200 loss: 0.0448318\n",
            "210 loss: 0.04483057\n",
            "220 loss: 0.04482981\n",
            "230 loss: 0.044829704\n",
            "240 loss: 0.044829812\n",
            "250 loss: 0.044829335\n",
            "260 loss: 0.04482949\n",
            "270 loss: 0.044829607\n",
            "280 loss: 0.04482934\n",
            "290 loss: 0.044829693\n"
          ],
          "name": "stdout"
        },
        {
          "output_type": "execute_result",
          "data": {
            "text/plain": [
              "array([[ 9.990456],\n",
              "       [43.006977]], dtype=float32)"
            ]
          },
          "metadata": {
            "tags": []
          },
          "execution_count": 47
        }
      ]
    },
    {
      "cell_type": "code",
      "metadata": {
        "id": "E5188sTGieXU",
        "colab_type": "code",
        "outputId": "a95722cb-6491-4a0e-9fd8-991d448b96f9",
        "colab": {
          "base_uri": "https://localhost:8080/",
          "height": 50
        }
      },
      "source": [
        "slope, intercept, r_value, p_value, std_err = stats.linregress(x,np.reshape(y, (100,)))\n",
        "print(slope, intercept)\n",
        "y_pred = x * slope + intercept\n",
        "ms_err = np.mean(np.square(y.reshape((100,)) - y_pred))\n",
        "print(ms_err)"
      ],
      "execution_count": 0,
      "outputs": [
        {
          "output_type": "stream",
          "text": [
            "43.006973678506476 9.99049714515499\n",
            "0.0448294008278806\n"
          ],
          "name": "stdout"
        }
      ]
    },
    {
      "cell_type": "code",
      "metadata": {
        "id": "kYCxQK1QgTOt",
        "colab_type": "code",
        "outputId": "2c51b2d9-5264-4b7f-d11c-25cb30c66b5d",
        "colab": {
          "base_uri": "https://localhost:8080/",
          "height": 121
        }
      },
      "source": [
        "b_lsq, err, rank, sv = np.linalg.lstsq(X,y)\n",
        "print(b_lsq, err, rank, sv)"
      ],
      "execution_count": 0,
      "outputs": [
        {
          "output_type": "stream",
          "text": [
            "[[ 9.99049715]\n",
            " [43.00697368]] [4.48294008] 2 [59.79318716  8.71855995]\n"
          ],
          "name": "stdout"
        },
        {
          "output_type": "stream",
          "text": [
            "/usr/local/lib/python3.6/dist-packages/ipykernel_launcher.py:1: FutureWarning: `rcond` parameter will change to the default of machine precision times ``max(M, N)`` where M and N are the input matrix dimensions.\n",
            "To use the future default and silence this warning we advise to pass `rcond=None`, to keep using the old, explicitly pass `rcond=-1`.\n",
            "  \"\"\"Entry point for launching an IPython kernel.\n"
          ],
          "name": "stderr"
        }
      ]
    }
  ]
}