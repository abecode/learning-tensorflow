{
  "nbformat": 4,
  "nbformat_minor": 0,
  "metadata": {
    "colab": {
      "name": "tf-regression.ipynb",
      "provenance": [],
      "include_colab_link": true
    },
    "kernelspec": {
      "name": "python3",
      "display_name": "Python 3"
    }
  },
  "cells": [
    {
      "cell_type": "markdown",
      "metadata": {
        "id": "view-in-github",
        "colab_type": "text"
      },
      "source": [
        "<a href=\"https://colab.research.google.com/github/abecode/learning-tensorflow/blob/master/tf_regression.ipynb\" target=\"_parent\"><img src=\"https://colab.research.google.com/assets/colab-badge.svg\" alt=\"Open In Colab\"/></a>"
      ]
    },
    {
      "cell_type": "code",
      "metadata": {
        "id": "OqAhTdb8cgvj",
        "colab": {
          "base_uri": "https://localhost:8080/",
          "height": 69
        },
        "outputId": "2a2dca69-e77b-4fd1-8449-194d17cd2be6"
      },
      "source": [
        "\"\"\"Roughly based on https://towardsdatascience.com/a-line-by-line-laymans-guide-to-linear-regression-using-tensorflow-3c0392aa9e1f\n",
        "\n",
        "But using a single column vector matrix for the parameters instead of two variables.  \n",
        "\n",
        "Also, using a matrix as input with a dummy ones column\n",
        "\"\"\""
      ],
      "execution_count": 1,
      "outputs": [
        {
          "output_type": "execute_result",
          "data": {
            "application/vnd.google.colaboratory.intrinsic+json": {
              "type": "string"
            },
            "text/plain": [
              "'Roughly based on https://towardsdatascience.com/a-line-by-line-laymans-guide-to-linear-regression-using-tensorflow-3c0392aa9e1f\\n\\nBut using a single column vector matrix for the parameters instead of two variables.  \\n\\nAlso, using a matrix as input with a dummy ones column\\n'"
            ]
          },
          "metadata": {
            "tags": []
          },
          "execution_count": 1
        }
      ]
    },
    {
      "cell_type": "code",
      "metadata": {
        "id": "6YfxSLLF1cm0",
        "colab": {
          "base_uri": "https://localhost:8080/"
        },
        "outputId": "aefc05f0-3109-406d-a8c6-ec93c9dbc1b0"
      },
      "source": [
        "import matplotlib.pyplot as plt\n",
        "import numpy as np\n",
        "from scipy import stats\n",
        "# 2021-04-23: I believe the previous stopped working when colab defaulted to a \n",
        "# different tf version\n",
        "# import tensorflow as tf \n",
        "import tensorflow.compat.v1 as tf\n",
        "tf.disable_v2_behavior()\n"
      ],
      "execution_count": 2,
      "outputs": [
        {
          "output_type": "stream",
          "text": [
            "WARNING:tensorflow:From /usr/local/lib/python3.7/dist-packages/tensorflow/python/compat/v2_compat.py:96: disable_resource_variables (from tensorflow.python.ops.variable_scope) is deprecated and will be removed in a future version.\n",
            "Instructions for updating:\n",
            "non-resource variables are not supported in the long term\n"
          ],
          "name": "stdout"
        }
      ]
    },
    {
      "cell_type": "code",
      "metadata": {
        "id": "Ht52yEBmR-Xj"
      },
      "source": [
        "import matplotlib.pyplot as plt"
      ],
      "execution_count": 3,
      "outputs": []
    },
    {
      "cell_type": "code",
      "metadata": {
        "id": "hnZUvdEi6sAG",
        "colab": {
          "base_uri": "https://localhost:8080/"
        },
        "outputId": "38d702a8-fda8-44b5-83d8-448b76e29a74"
      },
      "source": [
        "x = np.random.randn(100) * 5 + 3 # *5 changes the sd, +3 changes the mean\n",
        "err = np.random.randn(100) * .2 # *.2 changes tthe sd\n",
        "y = 43*x + 10 + err # calculate observed response\n",
        "y.shape = (100,1) # coerse to column vector\n",
        "B= np.array([10, 43]) # represent population parameters as column vector\n",
        "B.shape = (2,1) # coerse to column vector\n",
        "X= np.column_stack((np.ones(100),x))\n",
        "(X@B).shape # make sure the shapes are right\n"
      ],
      "execution_count": 4,
      "outputs": [
        {
          "output_type": "execute_result",
          "data": {
            "text/plain": [
              "(100, 1)"
            ]
          },
          "metadata": {
            "tags": []
          },
          "execution_count": 4
        }
      ]
    },
    {
      "cell_type": "code",
      "metadata": {
        "id": "eQnqfg7l7H3I"
      },
      "source": [
        "tf.reset_default_graph() \n",
        "#x_ = tf.placeholder(tf.float32, shape=(None,), name=\"x\")\n",
        "#y_ = tf.placeholder(tf.float32, shape=(None,), name=\"y\")\n",
        "x_ = tf.placeholder(tf.float32, shape=(100,1), name=\"x\")\n",
        "y_ = tf.placeholder(tf.float32, shape=(100,1), name=\"y\")\n",
        "X_ = tf.placeholder(tf.float32, shape=X.shape, name=\"X\")\n",
        "# err_ = tf.placeholder(\"err\", initializer=err)\n",
        "#b = tf.get_variable(\"b\", [1, 2])\n",
        "b_ = tf.get_variable(\"b\", shape=B.shape, initializer=tf.random_normal_initializer)\n",
        "#b_ = tf.get_variable(\"b\", shape=B.shape, initializer=tf.contrib.layers.xavier_initializer(uniform=True))\n",
        "#b_ = tf.get_variable(\"b\", shape=B.shape, initializer=tf.contrib.layers.xavier_initializer())\n",
        "yhat_ = tf.matmul(X_, b_)\n",
        "loss_ = tf.reduce_mean(tf.square(yhat_ - y_))\n",
        "optimizer = tf.train.GradientDescentOptimizer(.025)\n",
        "train_op = optimizer.minimize(loss_)"
      ],
      "execution_count": 5,
      "outputs": []
    },
    {
      "cell_type": "code",
      "metadata": {
        "id": "DZIdztgJdFgv",
        "colab": {
          "base_uri": "https://localhost:8080/"
        },
        "outputId": "e16afb69-f099-4df9-be18-37022e2e41dc"
      },
      "source": [
        "y_.shape"
      ],
      "execution_count": 6,
      "outputs": [
        {
          "output_type": "execute_result",
          "data": {
            "text/plain": [
              "TensorShape([Dimension(100), Dimension(1)])"
            ]
          },
          "metadata": {
            "tags": []
          },
          "execution_count": 6
        }
      ]
    },
    {
      "cell_type": "code",
      "metadata": {
        "id": "hNHo0Z07ZahV",
        "colab": {
          "base_uri": "https://localhost:8080/"
        },
        "outputId": "6a6ff4e0-e336-499b-a738-22ccafd65a36"
      },
      "source": [
        "with tf.Session() as session:\n",
        "    session.run(tf.global_variables_initializer())\n",
        "    feed_dict = {X_: X , y_: y}\n",
        "\t\t\n",
        "    for i in range(300):\n",
        "      session.run(train_op, feed_dict)\n",
        "      if i % 10 == 0:\n",
        "        print(i, \"loss:\", loss_.eval(feed_dict))\n",
        "    \n",
        "    v = session.run(b_)\n",
        "\n",
        "v"
      ],
      "execution_count": 7,
      "outputs": [
        {
          "output_type": "stream",
          "text": [
            "0 loss: 34698.277\n",
            "10 loss: 50.940163\n",
            "20 loss: 7.415131\n",
            "30 loss: 3.2428188\n",
            "40 loss: 1.4347049\n",
            "50 loss: 0.6448338\n",
            "60 loss: 0.29976937\n",
            "70 loss: 0.1490259\n",
            "80 loss: 0.08317298\n",
            "90 loss: 0.05440419\n",
            "100 loss: 0.04183671\n",
            "110 loss: 0.0363463\n",
            "120 loss: 0.033947807\n",
            "130 loss: 0.032899536\n",
            "140 loss: 0.032442234\n",
            "150 loss: 0.032242674\n",
            "160 loss: 0.03215498\n",
            "170 loss: 0.03211721\n",
            "180 loss: 0.03210057\n",
            "190 loss: 0.032092784\n",
            "200 loss: 0.03208962\n",
            "210 loss: 0.03208848\n",
            "220 loss: 0.03208766\n",
            "230 loss: 0.032087464\n",
            "240 loss: 0.03208717\n",
            "250 loss: 0.032087434\n",
            "260 loss: 0.03208715\n",
            "270 loss: 0.03208739\n",
            "280 loss: 0.032086827\n",
            "290 loss: 0.032087326\n"
          ],
          "name": "stdout"
        },
        {
          "output_type": "execute_result",
          "data": {
            "text/plain": [
              "array([[10.028934],\n",
              "       [42.997383]], dtype=float32)"
            ]
          },
          "metadata": {
            "tags": []
          },
          "execution_count": 7
        }
      ]
    },
    {
      "cell_type": "code",
      "metadata": {
        "id": "E5188sTGieXU",
        "colab": {
          "base_uri": "https://localhost:8080/"
        },
        "outputId": "4b4e62e7-a192-40fe-bf9f-aca68aadaecf"
      },
      "source": [
        "slope, intercept, r_value, p_value, std_err = stats.linregress(x,np.reshape(y, (100,)))\n",
        "print(slope, intercept)\n",
        "y_pred = x * slope + intercept\n",
        "ms_err = np.mean(np.square(y.reshape((100,)) - y_pred))\n",
        "print(ms_err)"
      ],
      "execution_count": 8,
      "outputs": [
        {
          "output_type": "stream",
          "text": [
            "42.99737958457639 10.028964995121157\n",
            "0.032087320341771024\n"
          ],
          "name": "stdout"
        }
      ]
    },
    {
      "cell_type": "code",
      "metadata": {
        "id": "kYCxQK1QgTOt",
        "colab": {
          "base_uri": "https://localhost:8080/"
        },
        "outputId": "1e10793d-30df-4800-e0bb-345d8ce3287a"
      },
      "source": [
        "b_lsq, err, rank, sv = np.linalg.lstsq(X,y)\n",
        "print(b_lsq, err, rank, sv)"
      ],
      "execution_count": 9,
      "outputs": [
        {
          "output_type": "stream",
          "text": [
            "[[10.028965  ]\n",
            " [42.99737958]] [3.20873203] 2 [58.43549668  9.00686288]\n"
          ],
          "name": "stdout"
        },
        {
          "output_type": "stream",
          "text": [
            "/usr/local/lib/python3.7/dist-packages/ipykernel_launcher.py:1: FutureWarning: `rcond` parameter will change to the default of machine precision times ``max(M, N)`` where M and N are the input matrix dimensions.\n",
            "To use the future default and silence this warning we advise to pass `rcond=None`, to keep using the old, explicitly pass `rcond=-1`.\n",
            "  \"\"\"Entry point for launching an IPython kernel.\n"
          ],
          "name": "stderr"
        }
      ]
    }
  ]
}